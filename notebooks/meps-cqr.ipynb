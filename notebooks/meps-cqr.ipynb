{
 "cells": [
  {
   "cell_type": "markdown",
   "metadata": {},
   "source": [
    "[![Open In Colab](https://colab.research.google.com/assets/colab-badge.svg)](https://colab.research.google.com/github/aangelopoulos/conformal-prediction/blob/main/notebooks/meps-cqr.ipynb)"
   ]
  },
  {
   "cell_type": "code",
   "execution_count": 1,
   "metadata": {},
   "outputs": [
    {
     "name": "stderr",
     "output_type": "stream",
     "text": [
      "ERROR: Invalid requirement: '#使用': Expected package name at the start of dependency specifier\n",
      "    #使用\n",
      "    ^\n"
     ]
    }
   ],
   "source": [
    "import os #导入 os 模块，用于与操作系统进行交互，例如文件和目录操作\n",
    "import json #导入 json 模块，用于处理 JSON 数据\n",
    "import numpy as np\n",
    "import matplotlib.pyplot as plt\n",
    "from matplotlib.image import imread #导入 matplotlib.image 模块中的 imread 函数，用于读取图像文件\n",
    "!pip install -U --no-cache-dir gdown --pre #使用 pip 命令安装或升级 gdown 包，并且不使用缓存。--pre 选项表示安装预发布版本。用于从 Google Drive （谷歌云存储）下载文件\n",
    "#这里!pip install，这是在 Jupyter Notebook 中常用的方式，用于在笔记本单元格中运行 shell 命令"
   ]
  },
  {
   "cell_type": "code",
   "execution_count": 2,
   "metadata": {},
   "outputs": [],
   "source": [
    "# 调用下载的数据\n",
    "if not os.path.exists('../data'): #检查../data目录是否存在\n",
    "    os.system('gdown 1h7S6N_Rx7gdfO3ZunzErZy6H7620EbZK -O ../data.tar.gz') #使用 gdown 命令下载数据集\n",
    "    os.system('tar -xf ../data.tar.gz -C ../') #解压文件\n",
    "    os.system('rm ../data.tar.gz') #删除压缩包\n",
    "#如果../data目录存在，直接加载数据\n",
    "data = np.load('../data/meps/meps-gbr.npz')\n",
    "#提取数据\n",
    "X, labels, upper, lower = data['X'], data['y'], data['upper'], data['lower']\n",
    "#这里X的形状为(7893,139), labels的形状为(7893,)，upper的形状为(7893,)，lower的形状为(7893,)"
   ]
  },
  {
   "cell_type": "code",
   "execution_count": 7,
   "metadata": {},
   "outputs": [],
   "source": [
    "# 问题建立\n",
    "n=1000 # 校准数据的样本数量\n",
    "alpha = 0.1 # 1-alpha是期望覆盖率"
   ]
  },
  {
   "cell_type": "code",
   "execution_count": 4,
   "metadata": {},
   "outputs": [],
   "source": [
    "#将softmax分数划分为校准集和验证集（保留原始顺序，不进行洗牌）\n",
    "\n",
    "#创建索引数组，n是校准集数量，smx.shape[0]是总样本数量，这里形成了一个长度为smx.shape[0]=50000的数组，前n=1000个元素为1，后面的元素为0。然后转换为布尔数组，1转换为True，0转换为False\n",
    "idx = np.array([1] * n + [0] * (smx.shape[0]-n)) > 0 #生成一个数组idx，长度为smx.shape[0]=50000，前n=1000个元素为True，后面的元素为False\n",
    "np.random.shuffle(idx) #将idx数组洗牌\n",
    "\n",
    "cal_labels, val_labels = labels[idx], labels[~idx]\n",
    "cal_upper, val_upper = upper[idx], upper[~idx]\n",
    "cal_lower, val_lower = lower[idx], lower[~idx]\n",
    "val_X = X[~idx]"
   ]
  },
  {
   "cell_type": "markdown",
   "metadata": {},
   "source": [
    "### Conformal prediction happens here"
   ]
  },
  {
   "cell_type": "code",
   "execution_count": 5,
   "metadata": {},
   "outputs": [],
   "source": [
    "# Get scores. cal_upper.shape[0] == cal_lower.shape[0] == n\n",
    "cal_scores = np.maximum(cal_labels-cal_upper, cal_lower-cal_labels)\n",
    "# Get the score quantile\n",
    "qhat = np.quantile(cal_scores, np.ceil((n+1)*(1-alpha))/n, interpolation='higher')\n",
    "# Deploy (output=lower and upper adjusted quantiles)\n",
    "prediction_sets = [val_lower - qhat, val_upper + qhat]"
   ]
  },
  {
   "cell_type": "code",
   "execution_count": 6,
   "metadata": {},
   "outputs": [
    {
     "name": "stdout",
     "output_type": "stream",
     "text": [
      "The empirical coverage before calibration is: 0.7378499927462643\n",
      "The empirical coverage after calibration is: 0.9305092122443058\n"
     ]
    }
   ],
   "source": [
    "# Calculate empirical coverage (before and after calibration)\n",
    "prediction_sets_uncalibrated = [val_lower, val_upper]\n",
    "empirical_coverage_uncalibrated = ((val_labels >= prediction_sets_uncalibrated[0]) & (val_labels <= prediction_sets_uncalibrated[1])).mean()\n",
    "print(f\"The empirical coverage before calibration is: {empirical_coverage_uncalibrated}\")\n",
    "empirical_coverage = ((val_labels >= prediction_sets[0]) & (val_labels <= prediction_sets[1])).mean()\n",
    "print(f\"The empirical coverage after calibration is: {empirical_coverage}\")"
   ]
  },
  {
   "cell_type": "code",
   "execution_count": 7,
   "metadata": {
    "scrolled": true
   },
   "outputs": [
    {
     "data": {
      "image/png": "[encoded data removed]",
      "text/plain": [
       "<Figure size 432x288 with 1 Axes>"
      ]
     },
     "metadata": {},
     "output_type": "display_data"
    }
   ],
   "source": [
    "# Plot results stratifying across cancer severity (one of many covariates)\n",
    "cancer_vecs = val_X[:,40:45]\n",
    "for col in range(cancer_vecs.shape[1]):\n",
    "    one_val = cancer_vecs[:,col].max()\n",
    "    cancer_vecs[:,col] = (cancer_vecs[:,col] == one_val).astype(int)\n",
    "cancer_dx = cancer_vecs.dot(np.arange(5)+1).astype(int)\n",
    "\n",
    "# Trim missing labels\n",
    "val_labels_trimmed = val_labels[cancer_dx > 0]\n",
    "val_lower_trimmed = val_lower[cancer_dx > 0]\n",
    "val_upper_trimmed = val_upper[cancer_dx > 0]\n",
    "cancer_dx_trimmed = cancer_dx[cancer_dx > 0]\n",
    "valid_cancer_dx = np.arange(5)+1\n",
    "\n",
    "lower_uncal = [(np.e**(val_lower_trimmed[cancer_dx_trimmed == dx]) - 1).mean() for dx in valid_cancer_dx]\n",
    "lower_cal = [(np.e**(val_lower_trimmed[cancer_dx_trimmed == dx]-qhat) - 1).mean() for dx in valid_cancer_dx]\n",
    "upper_uncal = [(np.e**(val_upper_trimmed[cancer_dx_trimmed == dx]) - 1).mean() for dx in valid_cancer_dx]\n",
    "upper_cal = [(np.e**(val_upper_trimmed[cancer_dx_trimmed == dx]+qhat) - 1).mean() for dx in valid_cancer_dx]\n",
    "\n",
    "sns.set(style='white')\n",
    "sns.set_palette('pastel')\n",
    "plt.figure()\n",
    "plt_idx = np.random.choice(np.arange(val_labels_trimmed.shape[0]), size=(val_labels_trimmed.shape[0],), replace=False)\n",
    "sns.violinplot(x=cancer_dx_trimmed[plt_idx], y=np.e**val_labels_trimmed[plt_idx]-1, color='#BBD9FA')\n",
    "plt.plot(valid_cancer_dx-1, lower_uncal, marker='_', markersize='25', linewidth=0, color='orange', label='uncalibrated')\n",
    "plt.plot(valid_cancer_dx-1, upper_uncal, marker='_', markersize='25', linewidth=0, color='orange')\n",
    "plt.plot(valid_cancer_dx-1, lower_cal, marker='_', markersize='25', linewidth=0, color='green', label='calibrated')\n",
    "plt.plot(valid_cancer_dx-1, upper_cal, marker='_', markersize='25', linewidth=0, color='green')\n",
    "plt.legend(loc='upper right')\n",
    "plt.ylim(0,80)\n",
    "plt.xlabel('Cancer severity (higher is more severe)')\n",
    "plt.ylabel('Medical expenses ($)')\n",
    "sns.despine(top=True,right=True)\n",
    "plt.show()"
   ]
  },
  {
   "cell_type": "markdown",
   "metadata": {},
   "source": [
    "This method was first introduced in https://arxiv.org/abs/1905.03222."
   ]
  }
 ],
 "metadata": {
  "kernelspec": {
   "display_name": "lcytorch",
   "language": "python",
   "name": "python3"
  },
  "language_info": {
   "codemirror_mode": {
    "name": "ipython",
    "version": 3
   },
   "file_extension": ".py",
   "mimetype": "text/x-python",
   "name": "python",
   "nbconvert_exporter": "python",
   "pygments_lexer": "ipython3",
   "version": "3.10.13"
  }
 },
 "nbformat": 4,
 "nbformat_minor": 4
}
